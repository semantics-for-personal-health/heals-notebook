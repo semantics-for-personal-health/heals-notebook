{
 "cells": [
  {
   "cell_type": "code",
   "execution_count": 1,
   "id": "63fe1bc9",
   "metadata": {},
   "outputs": [],
   "source": [
    "import requests\n",
    "\n",
    "KBQA_URL = 'http://kbqa-service/HEALS/api/v1.0'\n",
    "ENTITY_RESOLVER_URL = \"http://fuzzy-entity-resolver/resolve\""
   ]
  },
  {
   "cell_type": "code",
   "execution_count": 2,
   "id": "ee4d0de1",
   "metadata": {},
   "outputs": [],
   "source": [
    "import json\n",
    "#\n",
    "# Load user data from a json file\n",
    "#\n",
    "with open('1.json') as persona_file:\n",
    "    persona_json = persona_file.read()\n",
    "    persona = json.loads(persona_json)"
   ]
  },
  {
   "cell_type": "code",
   "execution_count": 3,
   "id": "729576e2",
   "metadata": {},
   "outputs": [],
   "source": [
    "\n",
    "# Set the base query\n",
    "#\n",
    "#query = \"what is a breakfast without eggs\"\n",
    "#query = \"What are soul recipes that do not contain egg?\"\n",
    "# query = \"What are swedish recipes which do not have ingredient bread flour?\"\n",
    "query = \"What beef ribs dishes can I make that do not contain barbecue sauce?\""
   ]
  },
  {
   "cell_type": "code",
   "execution_count": 4,
   "id": "3f1294f5",
   "metadata": {
    "tags": []
   },
   "outputs": [
    {
     "data": {
      "text/plain": [
       "'What beef ribs dishes can I make that do not contain barbecue sauce, and have milk,  apple,  pasta or  pizza, and contain calories from carbohydrates with desired range 0.0% to 45.0%?'"
      ]
     },
     "execution_count": 4,
     "metadata": {},
     "output_type": "execute_result"
    }
   ],
   "source": [
    "#\n",
    "# Expand the base query using user data\n",
    "#\n",
    "expanded_query_res = requests.post(f'{KBQA_URL}/expand_query', json={'question': query, 'persona_num': 1, 'persona': persona_json})\n",
    "expanded_query = expanded_query_res.text\n",
    "expanded_query"
   ]
  },
  {
   "cell_type": "code",
   "execution_count": 5,
   "id": "efc891ae",
   "metadata": {},
   "outputs": [
    {
     "name": "stdout",
     "output_type": "stream",
     "text": [
      "[{'confidence': 0.9, 'entity': 'tag', 'label': 'beef-ribs', 'value': 'tag2239'}, {'confidence': 0.86, 'entity': 'tag', 'label': 'beef-sausage', 'value': 'tag2128'}, {'confidence': 0.86, 'entity': 'tag', 'label': 'pork-ribs', 'value': 'tag2146'}, {'confidence': 0.86, 'entity': 'tag', 'label': 'beef-organ-meats', 'value': 'tag2233'}, {'confidence': 0.86, 'entity': 'tag', 'label': 'beef-liver', 'value': 'tag2249'}]\n"
     ]
    },
    {
     "data": {
      "text/plain": [
       "[{'confidence': 1, 'entity': 'tag', 'label': 'beef-ribs', 'value': 'tag2239'}]"
      ]
     },
     "execution_count": 5,
     "metadata": {},
     "output_type": "execute_result"
    }
   ],
   "source": [
    "#\n",
    "# Call the entity resolver to identify keywords in the query\n",
    "#\n",
    "entity_resp = requests.get(ENTITY_RESOLVER_URL, params={'query': query}).json()\n",
    "tags = entity_resp['tags']\n",
    "\n",
    "print(tags)\n",
    "\n",
    "# Filter out tags with low confidence\n",
    "tags = [t for t in tags if t['confidence'] >= 0.9]\n",
    "for t in tags:\n",
    "    t['confidence'] = 1\n",
    "#tags = [{'confidence': 1, 'entity': 'tag', 'label': 'swedish', 'value': 'tag2178'}]\n",
    "tags "
   ]
  },
  {
   "cell_type": "code",
   "execution_count": 6,
   "id": "b031174c",
   "metadata": {},
   "outputs": [
    {
     "data": {
      "text/plain": [
       "'{\"1\": [\"thai sweet chili sauce\", \"calories from carbohydrates with desired range 35.0 % to 65.0 %\"], \"2\": [\"catsup\", \"beef broth\", \"barbecue sauce\"]}'"
      ]
     },
     "execution_count": 6,
     "metadata": {},
     "output_type": "execute_result"
    }
   ],
   "source": [
    "constrained_entities = {\n",
    "      \"1\": [\n",
    "        \"thai sweet chili sauce\",\n",
    "        \"calories from carbohydrates with desired range 35.0 % to 65.0 %\"\n",
    "      ],\n",
    "      \"2\": [\n",
    "        \"catsup\",\n",
    "        \"beef broth\",\n",
    "        \"barbecue sauce\"\n",
    "      ]\n",
    "    }\n",
    "\n",
    "\n",
    "json.dumps(constrained_entities)"
   ]
  },
  {
   "cell_type": "code",
   "execution_count": 7,
   "id": "d005128b",
   "metadata": {},
   "outputs": [
    {
     "data": {
      "text/plain": [
       "\"expanded_query='What beef ribs dishes can I make that do not contain barbecue sauce, and have thai sweet chili sauce, and do not have catsup, beef broth, and contain calories from carbohydrates with desired range 35.0 % to 65.0 %?'\""
      ]
     },
     "execution_count": 7,
     "metadata": {},
     "output_type": "execute_result"
    }
   ],
   "source": [
    "persona =   {\n",
    "    \"ingredient_likes\": [\n",
    "      \"thai sweet chili sauce\"\n",
    "    ],\n",
    "    \"ingredient_dislikes\": [\n",
    "      \"catsup\",\n",
    "      \"beef broth\"\n",
    "    ],\n",
    "    \"constrained_entities\": {\n",
    "      \"1\": [\n",
    "        \"thai sweet chili sauce\",\n",
    "        \"calories from carbohydrates with desired range 35.0 % to 65.0 %\"\n",
    "      ],\n",
    "      \"2\": [\n",
    "        \"catsup\",\n",
    "        \"beef broth\",\n",
    "        \"barbecue sauce\"\n",
    "      ]\n",
    "    }\n",
    "  }\n",
    "#expanded_query = \"What are swedish recipes which do not have ingredient bread flour, and have caraway seeds, and do not have bacon, and contain calories from saturated fat with desired range 10.0 % to 35.0 %?\"\n",
    "expanded_query = \"What beef ribs dishes can I make that do not contain barbecue sauce, and have thai sweet chili sauce, and do not have catsup, beef broth, and contain calories from carbohydrates with desired range 35.0 % to 65.0 %?\"\n",
    "f'{expanded_query=}'"
   ]
  },
  {
   "cell_type": "code",
   "execution_count": 17,
   "id": "3b298ae4",
   "metadata": {},
   "outputs": [
    {
     "data": {
      "text/plain": [
       "{'answer_list': ['Oven Baked Ribs'],\n",
       " 'rel_path_list': [['tagged_dishes']],\n",
       " 'answer_id_list': ['http://idea.rpi.edu/heals/kb/recipe/bd4767eb-Oven%20Baked%20Ribs'],\n",
       " 'answer_recipe_list': [{'name': 'Oven Baked Ribs',\n",
       "   'uri': 'http://idea.rpi.edu/heals/kb/recipe/bd4767eb-Oven%20Baked%20Ribs',\n",
       "   'nutrients': {'calories': 220.9,\n",
       "    'carbohydrates': 24.9,\n",
       "    'fat': 11.7,\n",
       "    'protein': 0.0},\n",
       "   'ingredients': [{'name': 'thai sweet chili sauce',\n",
       "     'uri': 'http://idea.rpi.edu/heals/kb/ingredientname/thai%20sweet%20chili%20sauce'},\n",
       "    {'name': 'beef ribs',\n",
       "     'uri': 'http://idea.rpi.edu/heals/kb/ingredientname/beef%20ribs'},\n",
       "    {'name': 'cider vinegar',\n",
       "     'uri': 'http://idea.rpi.edu/heals/kb/ingredientname/cider%20vinegar'},\n",
       "    {'name': 'garlic cloves',\n",
       "     'uri': 'http://idea.rpi.edu/heals/kb/ingredientname/garlic%20cloves'},\n",
       "    {'name': 'green onions',\n",
       "     'uri': 'http://idea.rpi.edu/heals/kb/ingredientname/green%20onions'},\n",
       "    {'name': 'reduced sodium soy sauce',\n",
       "     'uri': 'http://idea.rpi.edu/heals/kb/ingredientname/reduced%20sodium%20soy%20sauce'},\n",
       "    {'name': 'smooth peanut butter',\n",
       "     'uri': 'http://idea.rpi.edu/heals/kb/ingredientname/smooth%20peanut%20butter'},\n",
       "    {'name': 'tomato sauce',\n",
       "     'uri': 'http://idea.rpi.edu/heals/kb/ingredientname/tomato%20sauce'},\n",
       "    {'name': 'treacle',\n",
       "     'uri': 'http://idea.rpi.edu/heals/kb/ingredientname/treacle'},\n",
       "    {'name': 'vegetable oil',\n",
       "     'uri': 'http://idea.rpi.edu/heals/kb/ingredientname/vegetable%20oil'}]}],\n",
       " 'query': 'What beef ribs dishes can I make that do not contain barbecue sauce, and have thai sweet chili sauce, and do not have catsup, beef broth, and contain calories from carbohydrates with desired range 35.0 % to 65.0 %?',\n",
       " 'tokenized_query': ['What',\n",
       "  'beef',\n",
       "  'ribs',\n",
       "  'dishes',\n",
       "  'can',\n",
       "  'I',\n",
       "  'make',\n",
       "  'that',\n",
       "  'do',\n",
       "  'not',\n",
       "  'contain',\n",
       "  'barbecue',\n",
       "  'sauce',\n",
       "  ',',\n",
       "  'and',\n",
       "  'have',\n",
       "  'thai',\n",
       "  'sweet',\n",
       "  'chili',\n",
       "  'sauce',\n",
       "  ',',\n",
       "  'and',\n",
       "  'do',\n",
       "  'not',\n",
       "  'have',\n",
       "  'catsup',\n",
       "  ',',\n",
       "  'beef',\n",
       "  'broth',\n",
       "  ',',\n",
       "  'and',\n",
       "  'contain',\n",
       "  'calories',\n",
       "  'from',\n",
       "  'carbohydrates',\n",
       "  'with',\n",
       "  'desired',\n",
       "  'range',\n",
       "  '35.0',\n",
       "  '%',\n",
       "  'to',\n",
       "  '65.0',\n",
       "  '%',\n",
       "  '?'],\n",
       " 'query_attn': [0.004765712656080723,\n",
       "  0.004656326025724411,\n",
       "  0.00468104612082243,\n",
       "  0.005200771614909172,\n",
       "  0.005629521328955889,\n",
       "  0.005582601763308048,\n",
       "  0.004867080133408308,\n",
       "  0.00440253596752882,\n",
       "  0.005645162891596556,\n",
       "  0.0051107462495565414,\n",
       "  0.003933880943804979,\n",
       "  0.05558660998940468,\n",
       "  0.04521555081009865,\n",
       "  0.005468322895467281,\n",
       "  0.004646607208997011,\n",
       "  0.004224905278533697,\n",
       "  0.028232265263795853,\n",
       "  0.023669935762882233,\n",
       "  0.03678589686751366,\n",
       "  0.04230096936225891,\n",
       "  0.005334325134754181,\n",
       "  0.004736559931188822,\n",
       "  0.0059235612861812115,\n",
       "  0.005324976053088903,\n",
       "  0.004453498404473066,\n",
       "  0.04945952445268631,\n",
       "  0.0046110753901302814,\n",
       "  0.0490717776119709,\n",
       "  0.05590813606977463,\n",
       "  0.005740311462432146,\n",
       "  0.004964381456375122,\n",
       "  0.004577701445668936,\n",
       "  0.026797765865921974,\n",
       "  0.029198506847023964,\n",
       "  0.0500248484313488,\n",
       "  0.028584973886609077,\n",
       "  0.051236409693956375,\n",
       "  0.03908875957131386,\n",
       "  0.041513361036777496,\n",
       "  0.058011263608932495,\n",
       "  0.039178866893053055,\n",
       "  0.08441152423620224,\n",
       "  0.046126578003168106,\n",
       "  0.005114858038723469],\n",
       " 'word_attn': [{'word': 'What', 'attention': 0.004765712656080723},\n",
       "  {'word': 'beef', 'attention': 0.004656326025724411},\n",
       "  {'word': 'ribs', 'attention': 0.00468104612082243},\n",
       "  {'word': 'dishes', 'attention': 0.005200771614909172},\n",
       "  {'word': 'can', 'attention': 0.005629521328955889},\n",
       "  {'word': 'I', 'attention': 0.005582601763308048},\n",
       "  {'word': 'make', 'attention': 0.004867080133408308},\n",
       "  {'word': 'that', 'attention': 0.00440253596752882},\n",
       "  {'word': 'do', 'attention': 0.005645162891596556},\n",
       "  {'word': 'not', 'attention': 0.0051107462495565414},\n",
       "  {'word': 'contain', 'attention': 0.003933880943804979},\n",
       "  {'word': 'barbecue', 'attention': 0.05558660998940468},\n",
       "  {'word': 'sauce', 'attention': 0.04521555081009865},\n",
       "  {'word': ',', 'attention': 0.005468322895467281},\n",
       "  {'word': 'and', 'attention': 0.004646607208997011},\n",
       "  {'word': 'have', 'attention': 0.004224905278533697},\n",
       "  {'word': 'thai', 'attention': 0.028232265263795853},\n",
       "  {'word': 'sweet', 'attention': 0.023669935762882233},\n",
       "  {'word': 'chili', 'attention': 0.03678589686751366},\n",
       "  {'word': 'sauce', 'attention': 0.04230096936225891},\n",
       "  {'word': ',', 'attention': 0.005334325134754181},\n",
       "  {'word': 'and', 'attention': 0.004736559931188822},\n",
       "  {'word': 'do', 'attention': 0.0059235612861812115},\n",
       "  {'word': 'not', 'attention': 0.005324976053088903},\n",
       "  {'word': 'have', 'attention': 0.004453498404473066},\n",
       "  {'word': 'catsup', 'attention': 0.04945952445268631},\n",
       "  {'word': ',', 'attention': 0.0046110753901302814},\n",
       "  {'word': 'beef', 'attention': 0.0490717776119709},\n",
       "  {'word': 'broth', 'attention': 0.05590813606977463},\n",
       "  {'word': ',', 'attention': 0.005740311462432146},\n",
       "  {'word': 'and', 'attention': 0.004964381456375122},\n",
       "  {'word': 'contain', 'attention': 0.004577701445668936},\n",
       "  {'word': 'calories', 'attention': 0.026797765865921974},\n",
       "  {'word': 'from', 'attention': 0.029198506847023964},\n",
       "  {'word': 'carbohydrates', 'attention': 0.0500248484313488},\n",
       "  {'word': 'with', 'attention': 0.028584973886609077},\n",
       "  {'word': 'desired', 'attention': 0.051236409693956375},\n",
       "  {'word': 'range', 'attention': 0.03908875957131386},\n",
       "  {'word': '35.0', 'attention': 0.041513361036777496},\n",
       "  {'word': '%', 'attention': 0.058011263608932495},\n",
       "  {'word': 'to', 'attention': 0.039178866893053055},\n",
       "  {'word': '65.0', 'attention': 0.08441152423620224},\n",
       "  {'word': '%', 'attention': 0.046126578003168106},\n",
       "  {'word': '?', 'attention': 0.005114858038723469}],\n",
       " 'err_code': 0,\n",
       " 'err_msg': '',\n",
       " 'persona': {'ingredient_likes': ['thai sweet chili sauce'],\n",
       "  'ingredient_dislikes': ['catsup', 'beef broth'],\n",
       "  'constrained_entities': {'1': ['thai sweet chili sauce',\n",
       "    'calories from carbohydrates with desired range 35.0 % to 65.0 %'],\n",
       "   '2': ['catsup', 'beef broth', 'barbecue sauce', 'catsup', 'beef broth'],\n",
       "   '3': ['thai sweet chili sauce']}},\n",
       " 'guideline': []}"
      ]
     },
     "execution_count": 17,
     "metadata": {},
     "output_type": "execute_result"
    }
   ],
   "source": [
    "#\n",
    "# Query KBQA using the entities and expanded query\n",
    "#\n",
    "kbqa_query_data = {\n",
    "    \"intent\": \"constraint\",\n",
    "    \"output\": \"N/A\",\n",
    "    \"question\": expanded_query,\n",
    "    # we don't need to expand the query again\n",
    "    \"skip_expansion\": True,\n",
    "    \"lookup_recipes\": True,\n",
    "    \"persona\": persona,\n",
    "    \"entities\": tags,\n",
    "    \"constrained_entities\": constrained_entities,\n",
    "    #\"similar_recipes\": similar_recipes\n",
    "}\n",
    "kbqa_resp = requests.post(f\"{KBQA_URL}/kbqa\", json=kbqa_query_data)\n",
    "kbqa_answer = kbqa_resp.json()\n",
    "kbqa_answer"
   ]
  },
  {
   "cell_type": "code",
   "execution_count": 14,
   "id": "1de7dca7",
   "metadata": {},
   "outputs": [
    {
     "name": "stdout",
     "output_type": "stream",
     "text": [
      "Oven Baked Ribs\n",
      "  calories: 220.9\n",
      "  carbohydrates: 24.9\n",
      "  fat: 11.7\n",
      "  protein: 0.0\n",
      "  Ingredients:\n",
      "  - thai sweet chili sauce\n",
      "  - beef ribs\n",
      "  - cider vinegar\n",
      "  - garlic cloves\n",
      "  - green onions\n",
      "  - reduced sodium soy sauce\n",
      "  - smooth peanut butter\n",
      "  - tomato sauce\n",
      "  - treacle\n",
      "  - vegetable oil\n"
     ]
    }
   ],
   "source": [
    "recipes = requests.post(f\"{KBQA_URL}/recipes\", json=kbqa_answer[\"answer_id_list\"]).json()\n",
    "for recipe in recipes:\n",
    "    print(recipe['name'])\n",
    "    for name, value in recipe['nutrients'].items():\n",
    "        print(f\"  {name}: {value}\")\n",
    "    print('  Ingredients:')\n",
    "    for ing in recipe['ingredients']:\n",
    "        print(f'  - {ing[\"name\"]}')"
   ]
  },
  {
   "cell_type": "code",
   "execution_count": null,
   "id": "52a76432",
   "metadata": {},
   "outputs": [],
   "source": []
  }
 ],
 "metadata": {
  "kernelspec": {
   "display_name": "Python 3 (ipykernel)",
   "language": "python",
   "name": "python3"
  },
  "language_info": {
   "codemirror_mode": {
    "name": "ipython",
    "version": 3
   },
   "file_extension": ".py",
   "mimetype": "text/x-python",
   "name": "python",
   "nbconvert_exporter": "python",
   "pygments_lexer": "ipython3",
   "version": "3.9.7"
  }
 },
 "nbformat": 4,
 "nbformat_minor": 5
}
