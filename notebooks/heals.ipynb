{
 "cells": [
  {
   "cell_type": "code",
   "execution_count": 1,
   "id": "63fe1bc9",
   "metadata": {},
   "outputs": [],
   "source": [
    "import requests\n",
    "\n",
    "KBQA_URL = 'http://kbqa-service/HEALS/api/v1.0'\n",
    "ENTITY_RESOLVER_URL = \"http://fuzzy-entity-resolver/resolve\""
   ]
  },
  {
   "cell_type": "code",
   "execution_count": 2,
   "id": "ee4d0de1",
   "metadata": {},
   "outputs": [],
   "source": [
    "import json\n",
    "#\n",
    "# Load user data from a json file\n",
    "#\n",
    "with open('1.json') as persona_file:\n",
    "    persona_json = persona_file.read()\n",
    "    persona = json.loads(persona_json)"
   ]
  },
  {
   "cell_type": "code",
   "execution_count": 3,
   "id": "729576e2",
   "metadata": {},
   "outputs": [],
   "source": [
    "#\n",
    "# Set the base query\n",
    "#\n",
    "query = \"what is a breakfast without eggs\"\n",
    "#query = \"What are soul recipes that do not contain egg?\""
   ]
  },
  {
   "cell_type": "code",
   "execution_count": 4,
   "id": "3f1294f5",
   "metadata": {},
   "outputs": [
    {
     "data": {
      "text/plain": [
       "'what is a breakfast without eggs, and have milk,  apple,  pasta or  pizza, and contain calories from carbohydrates with desired range 0.0% to 45.0%?'"
      ]
     },
     "execution_count": 4,
     "metadata": {},
     "output_type": "execute_result"
    }
   ],
   "source": [
    "#\n",
    "# Expand the base query using user data\n",
    "#\n",
    "expanded_query_res = requests.post(f'{KBQA_URL}/expand_query', json={'question': query, 'persona_num': 1, 'persona': persona_json})\n",
    "expanded_query = expanded_query_res.text\n",
    "expanded_query"
   ]
  },
  {
   "cell_type": "code",
   "execution_count": 6,
   "id": "efc891ae",
   "metadata": {},
   "outputs": [
    {
     "data": {
      "text/plain": [
       "[{'confidence': 1, 'entity': 'tag', 'label': 'breakfast', 'value': 'tag2305'}]"
      ]
     },
     "execution_count": 6,
     "metadata": {},
     "output_type": "execute_result"
    }
   ],
   "source": [
    "#\n",
    "# Call the entity resolver to identify keywords in the query\n",
    "#\n",
    "entity_resp = requests.get(ENTITY_RESOLVER_URL, params={'query': query}).json()\n",
    "tags = entity_resp['tags']\n",
    "\n",
    "# Filter out tags with low confidence\n",
    "tags = [t for t in tags if t['confidence'] >= 0.9]\n",
    "for t in tags:\n",
    "    t['confidence'] = 1\n",
    "tags = [{'confidence': 1, 'entity': 'tag', 'label': 'breakfast', 'value': 'tag2305'}]\n",
    "tags "
   ]
  },
  {
   "cell_type": "code",
   "execution_count": 7,
   "id": "b031174c",
   "metadata": {},
   "outputs": [
    {
     "data": {
      "text/plain": [
       "'{\"1\": [], \"2\": [\"egg\", \"eggs\"]}'"
      ]
     },
     "execution_count": 7,
     "metadata": {},
     "output_type": "execute_result"
    }
   ],
   "source": [
    "constrained_entities = {\n",
    "    1: [],\n",
    "    2: [\n",
    "        \"egg\",\n",
    "        \"eggs\"\n",
    "    ]\n",
    "}\n",
    "json.dumps(constrained_entities)"
   ]
  },
  {
   "cell_type": "code",
   "execution_count": 12,
   "id": "d005128b",
   "metadata": {},
   "outputs": [
    {
     "data": {
      "text/plain": [
       "\"expanded_query='what is a breakfast without eggs, and have milk,  apple,  pasta or  pizza, and contain calories from carbohydrates with desired range 0.0% to 45.0%?'\""
      ]
     },
     "execution_count": 12,
     "metadata": {},
     "output_type": "execute_result"
    }
   ],
   "source": [
    "similar_recipes = [\n",
    "    \"Southern Smothered Pork Chops\",\n",
    "    \"Creamy Cheese Grits\",\n",
    "    \"Blueberry Peach Cobbler\",\n",
    "    \"Oxtail Soup\",\n",
    "    \"Seafood Boil\",\n",
    "    \"Bubba Gump\\\\'s Greenbow County Okra Gumbo\",\n",
    "    \"Easy Smothered Pork Chops\",\n",
    "    \"Smothered Pork Chops\",\n",
    "    \"Southern Cabbage Salad With Sweet Onion and Peppers\",\n",
    "    \"Cabbage Rolls\",\n",
    "    \"Easy Peach Cobbler\",\n",
    "    \"Grilled Cabbage\",\n",
    "    \"Cheese Grits\",\n",
    "    \"Boozy Braised Collard Greens\",\n",
    "    \"Stewed Okra and Tomatoes\",\n",
    "    \"Okra Supreme\",\n",
    "    \"Ham Hock Stock\",\n",
    "    \"Fresh Peach Cobbler\",\n",
    "    \"Pickled Okra\",\n",
    "    \"Fried Green Tomatoes\",\n",
    "    \"Collard Greens (Vegan)\",\n",
    "    \"Fried Okra\",\n",
    "    \"Okra Gumbo\",\n",
    "    \"Crock Pot - Cabbage Beef Soup\",\n",
    "    \"Oven-Fried Okra\",\n",
    "    \"Chicken Gizzard Taco Filling\",\n",
    "    \"Perfect Southern Greens (Kale, Beet, Collard Greens, Mustard)\",\n",
    "    \"Peach Cobbler\",\n",
    "    \"Lump Crab Garlic Cheese Grits\",\n",
    "    \"Pan-Fried Okra, Onion, and Tomatoes\",\n",
    "    \"Cabbage Soup\",\n",
    "    \"Easy Vegetarian Collard Greens\",\n",
    "    \"Baked Garlic Cheese Grits\",\n",
    "    \"Cajun Smothered Pork Chops\",\n",
    "    \"Collard Greens in a Hurry\",\n",
    "    \"Lowcountry Oxtails With Ham Hocks\",\n",
    "    \"ham hock gumbo\",\n",
    "    \"Double Crust Peach Cobbler\",\n",
    "    \"Garlic Cheese Grits\",\n",
    "    \"Ham Hock and Lentil Soup\",\n",
    "    \"Low(Er) Fat Collard Greens\",\n",
    "    \"Okra Fritters\",\n",
    "    \"Jalapeno Cheese Grits\",\n",
    "    \"Creole Cabbage\",\n",
    "    \"Collard Greens\",\n",
    "    \"Ground Beef and Cabbage Stew\",\n",
    "    \"Shrimp and Okra\",\n",
    "    \"Bacon Cider Sauteed Collard Greens/Honey Mustard Drizzle\",\n",
    "    \"Texas Country Cabbage\",\n",
    "    \"Chili-Cheese Grits\",\n",
    "    \"Ham and Okra\",\n",
    "    \"Cajun Fish and Shrimp over Bacon Cheddar Cheese Grits\",\n",
    "    \"Crock Pot Split Pea and Ham Hock Soup\",\n",
    "    \"Mom\\\\'s Cabbage Soup\",\n",
    "    \"Easy Collard Greens\",\n",
    "    \"Green Beans and Ham Hocks\",\n",
    "    \"Oven Fried Green Tomatoes and Okra\",\n",
    "    \"Gorgonzola Cheese Grits\",\n",
    "    \"Cheese Grits Souffle\",\n",
    "    \"Mild Okra Fritters\",\n",
    "    \"Fried Chicken Gizzards\",\n",
    "]\n",
    "f'{expanded_query=}'"
   ]
  },
  {
   "cell_type": "code",
   "execution_count": 13,
   "id": "3b298ae4",
   "metadata": {},
   "outputs": [
    {
     "data": {
      "text/plain": [
       "['Clean Whole Wheat Crepes',\n",
       " 'Peanut Butter Cutlets',\n",
       " \"Gb\\\\'s Breakfast Casserole\",\n",
       " 'Bacon and Egg Casserole',\n",
       " 'Quiche']"
      ]
     },
     "execution_count": 13,
     "metadata": {},
     "output_type": "execute_result"
    }
   ],
   "source": [
    "#\n",
    "# Query KBQA using the entities and expanded query\n",
    "#\n",
    "kbqa_query_data = {\n",
    "    \"intent\": \"constraint\",\n",
    "    \"output\": \"N/A\",\n",
    "    \"question\": expanded_query,\n",
    "    # we don't need to expand the query again\n",
    "    \"skip_expansion\": True,\n",
    "    \"persona\": persona,\n",
    "    \"entities\": tags,\n",
    "    \"constrained_entities\": constrained_entities,\n",
    "    \"similar_recipes\": similar_recipes\n",
    "}\n",
    "kbqa_resp = requests.post(f\"{KBQA_URL}/kbqa\", json=kbqa_query_data)\n",
    "kbqa_resp.json()['answer_list']"
   ]
  },
  {
   "cell_type": "code",
   "execution_count": null,
   "id": "1de7dca7",
   "metadata": {},
   "outputs": [],
   "source": []
  }
 ],
 "metadata": {
  "kernelspec": {
   "display_name": "Python 3 (ipykernel)",
   "language": "python",
   "name": "python3"
  },
  "language_info": {
   "codemirror_mode": {
    "name": "ipython",
    "version": 3
   },
   "file_extension": ".py",
   "mimetype": "text/x-python",
   "name": "python",
   "nbconvert_exporter": "python",
   "pygments_lexer": "ipython3",
   "version": "3.9.7"
  }
 },
 "nbformat": 4,
 "nbformat_minor": 5
}
